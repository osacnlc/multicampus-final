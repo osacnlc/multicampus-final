{
 "cells": [
  {
   "cell_type": "code",
   "execution_count": 1,
   "id": "light-stability",
   "metadata": {},
   "outputs": [],
   "source": [
    "#!pip install pyspark"
   ]
  },
  {
   "cell_type": "code",
   "execution_count": 11,
   "id": "assigned-science",
   "metadata": {},
   "outputs": [],
   "source": [
    "from pyspark import SparkConf, SparkContext\n",
    "from pyspark.sql import *\n",
    "import numpy as np"
   ]
  },
  {
   "cell_type": "code",
   "execution_count": 2,
   "id": "documented-proxy",
   "metadata": {},
   "outputs": [
    {
     "name": "stderr",
     "output_type": "stream",
     "text": [
      "21/09/09 09:26:24 WARN NativeCodeLoader: Unable to load native-hadoop library for your platform... using builtin-java classes where applicable\n",
      "Using Spark's default log4j profile: org/apache/spark/log4j-defaults.properties\n",
      "Setting default log level to \"WARN\".\n",
      "To adjust logging level use sc.setLogLevel(newLevel). For SparkR, use setLogLevel(newLevel).\n",
      "21/09/09 09:26:26 WARN Utils: Service 'SparkUI' could not bind on port 4040. Attempting port 4041.\n"
     ]
    }
   ],
   "source": [
    "#connector 설정\n",
    "\n",
    "conf = SparkConf() \\\n",
    "    .setMaster('local') \\\n",
    "    .setAppName('sql') \\\n",
    "    .set(\"spark.driver.extraClassPath\",\"jdbc/mysql-connector-java-5.1.44.jar\")\n",
    "\n",
    "sc = SparkContext(conf=conf)\n",
    "\n",
    "spark = SparkSession(sc)"
   ]
  },
  {
   "cell_type": "code",
   "execution_count": 3,
   "id": "laden-relevance",
   "metadata": {},
   "outputs": [],
   "source": [
    "#db접속정보 설정\n",
    "                        #[ip주소:port]   #[db명]                 #[유저명]          #[비밀번호]\n",
    "DB_URL = 'jdbc:mysql://                /       ?useSSL=false&user=        &password=           '\n"
   ]
  },
  {
   "cell_type": "code",
   "execution_count": 7,
   "id": "sweet-conditions",
   "metadata": {},
   "outputs": [
    {
     "name": "stdout",
     "output_type": "stream",
     "text": [
      "+----------+----------------+--------+--------+------------+------------------+------------+----------+----------------+------------------------------+--------------+---------------+-------------+--------------+--------------+------------+---------------+\n",
      "|금연구역명|금연구역범위상세|  시도명|시군구명|금연구역구분|금연구역지정근거명|금연구역면적|위반과태료|위반신고전화번호|              소재지도로명주소|소재지지번주소|     관리기관명|         위도|          경도|데이터기준일자|제공기관코드|     제공기관명|\n",
      "+----------+----------------+--------+--------+------------+------------------+------------+----------+----------------+------------------------------+--------------+---------------+-------------+--------------+--------------+------------+---------------+\n",
      "|    어미향|    건물 내 금연|전라남도|  목포시|  일반음식점|    국민건강증진법|        null|    100000|    061-277-4000|전라남도 목포시 동명로 19, ...|          null|전라남도 목포시|  34.78903148|   126.3955929|    2020-10-08|     4800000|전라남도 목포시|\n",
      "|  지맘대로|    건물 내 금연|전라남도|  목포시|  일반음식점|    국민건강증진법|        null|    100000|    061-277-4000|전라남도 목포시 동명로 23, ...|          null|전라남도 목포시|34.7894065095|126.3955903595|    2020-10-08|     4800000|전라남도 목포시|\n",
      "+----------+----------------+--------+--------+------------+------------------+------------+----------+----------------+------------------------------+--------------+---------------+-------------+--------------+--------------+------------+---------------+\n",
      "only showing top 2 rows\n",
      "\n"
     ]
    }
   ],
   "source": [
    "#데이터파일(csv)을 DataFrame 으로 읽어들인다.\n",
    "# inferSchema : 데이터를 기반으로 타입을 유추(기본값 : False)\n",
    "# header : 첫번째 행을 컬럼 값으로 사용\n",
    "\n",
    "df = spark.read.csv(\"data/전국금연구역표준데이터.csv\", encoding = 'cp949',inferSchema = True, header = True)\n",
    "df.show(2)"
   ]
  },
  {
   "cell_type": "code",
   "execution_count": 8,
   "id": "bigger-restoration",
   "metadata": {},
   "outputs": [
    {
     "data": {
      "text/plain": [
       "<bound method DataFrame.printSchema of DataFrame[금연구역명: string, 금연구역범위상세: string, 시도명: string, 시군구명: string, 금연구역구분: string, 금연구역지정근거명: string, 금연구역면적: double, 위반과태료: int, 위반신고전화번호: string, 소재지도로명주소: string, 소재지지번주소: string, 관리기관명: string, 위도: double, 경도: double, 데이터기준일자: string, 제공기관코드: string, 제공기관명: string]>"
      ]
     },
     "execution_count": 8,
     "metadata": {},
     "output_type": "execute_result"
    }
   ],
   "source": [
    "#컬럼정보 확인\n",
    "df.printSchema"
   ]
  },
  {
   "cell_type": "code",
   "execution_count": 9,
   "id": "bottom-width",
   "metadata": {},
   "outputs": [
    {
     "name": "stdout",
     "output_type": "stream",
     "text": [
      "<class 'pyspark.sql.dataframe.DataFrame'>\n"
     ]
    }
   ],
   "source": [
    "# DataFrame 타입인 것을 확인\n",
    "print(type(df))"
   ]
  },
  {
   "cell_type": "code",
   "execution_count": 29,
   "id": "operating-trunk",
   "metadata": {},
   "outputs": [
    {
     "name": "stdout",
     "output_type": "stream",
     "text": [
      "<class 'pyspark.sql.dataframe.DataFrame'>\n",
      "+----------+----------------+--------+--------+------------+------------------+------------+\n",
      "|금연구역명|금연구역범위상세|  시도명|시군구명|금연구역구분|금연구역지정근거명|금연구역면적|\n",
      "+----------+----------------+--------+--------+------------+------------------+------------+\n",
      "|    어미향|    건물 내 금연|전라남도|  목포시|  일반음식점|    국민건강증진법|        null|\n",
      "|  지맘대로|    건물 내 금연|전라남도|  목포시|  일반음식점|    국민건강증진법|        null|\n",
      "|      미담|    건물 내 금연|전라남도|  목포시|  일반음식점|    국민건강증진법|        null|\n",
      "|    지니빠|    건물 내 금연|전라남도|  목포시|  일반음식점|    국민건강증진법|        null|\n",
      "|1004의쉼터|    건물 내 금연|전라남도|  목포시|  일반음식점|    국민건강증진법|        null|\n",
      "+----------+----------------+--------+--------+------------+------------------+------------+\n",
      "only showing top 5 rows\n",
      "\n"
     ]
    }
   ],
   "source": [
    "# 몇몇 컬럼만 선택한 결과는 새로운 DataFrame 으로 반완됨\n",
    "print(type(df.select('금연구역명', '금연구역범위상세', '시도명', '시군구명','금연구역구분','금연구역지정근거명','금연구역면적')))\n",
    "# 데이터 조회\n",
    "df.select('금연구역명', '금연구역범위상세', '시도명', '시군구명','금연구역구분','금연구역지정근거명','금연구역면적').show(5)"
   ]
  },
  {
   "cell_type": "code",
   "execution_count": 30,
   "id": "identified-chapel",
   "metadata": {},
   "outputs": [
    {
     "name": "stdout",
     "output_type": "stream",
     "text": [
      "+----------+----------------+--------+--------+------------+------------------+------------+\n",
      "|금연구역명|금연구역범위상세|  시도명|시군구명|금연구역구분|금연구역지정근거명|금연구역면적|\n",
      "+----------+----------------+--------+--------+------------+------------------+------------+\n",
      "|    어미향|    건물 내 금연|전라남도|  목포시|  일반음식점|    국민건강증진법|        null|\n",
      "|  지맘대로|    건물 내 금연|전라남도|  목포시|  일반음식점|    국민건강증진법|        null|\n",
      "|      미담|    건물 내 금연|전라남도|  목포시|  일반음식점|    국민건강증진법|        null|\n",
      "|    지니빠|    건물 내 금연|전라남도|  목포시|  일반음식점|    국민건강증진법|        null|\n",
      "|1004의쉼터|    건물 내 금연|전라남도|  목포시|  일반음식점|    국민건강증진법|        null|\n",
      "+----------+----------------+--------+--------+------------+------------------+------------+\n",
      "only showing top 5 rows\n",
      "\n"
     ]
    }
   ],
   "source": [
    "# 정보분리\n",
    "df_new = df.select('금연구역명', '금연구역범위상세', '시도명', '시군구명','금연구역구분','금연구역지정근거명','금연구역면적')\n",
    "df_new.show(5)"
   ]
  },
  {
   "cell_type": "code",
   "execution_count": 31,
   "id": "challenging-token",
   "metadata": {},
   "outputs": [
    {
     "name": "stderr",
     "output_type": "stream",
     "text": [
      "                                                                                \r"
     ]
    }
   ],
   "source": [
    "#DB에 저장\n",
    "df_new \\\n",
    "    .write \\\n",
    "    .format('jdbc') \\\n",
    "    .mode('append') \\\n",
    "    .option(\"url\", DB_URL) \\\n",
    "    .option(\"dbtable\", \"no_smomking\") \\\n",
    "    .save()"
   ]
  }
 ],
 "metadata": {
  "kernelspec": {
   "display_name": "Python [conda env:lab04]",
   "language": "python",
   "name": "conda-env-lab04-py"
  },
  "language_info": {
   "codemirror_mode": {
    "name": "ipython",
    "version": 3
   },
   "file_extension": ".py",
   "mimetype": "text/x-python",
   "name": "python",
   "nbconvert_exporter": "python",
   "pygments_lexer": "ipython3",
   "version": "3.8.1"
  }
 },
 "nbformat": 4,
 "nbformat_minor": 5
}
